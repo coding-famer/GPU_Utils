{
 "cells": [
  {
   "cell_type": "code",
   "execution_count": null,
   "metadata": {},
   "outputs": [],
   "source": [
    "import numpy as np\n",
    "import torch\n",
    "import os"
   ]
  },
  {
   "cell_type": "code",
   "execution_count": 4,
   "metadata": {},
   "outputs": [
    {
     "name": "stdout",
     "output_type": "stream",
     "text": [
      "Using GPU: 1\n"
     ]
    }
   ],
   "source": [
    "def gpu_info():\n",
    "    memory = os.popen('nvidia-smi -q -d Memory |grep -A4 GPU|grep Free').read().split(':')[1:]\n",
    "    gpu_free_memory = [int(i.split('M')[0]) for i in memory]\n",
    "    util = os.popen('nvidia-smi -q -d Utilization |grep -A5 GPU|grep Avg').read().split(':')[1:]\n",
    "    gpu_util = [int(i.split('%')[0]) for i in util]\n",
    "    return gpu_util, gpu_free_memory\n",
    "util_gpu, memory_gpu = gpu_info()\n",
    "# free_gpu = [i for i in range(len(GPU_list)) if GPU_list[i] == True] \n",
    "# memory_gpu = [memory_gpu[i] if i in free_gpu else 0 for i in range(len(memory_gpu))]\n",
    "GPU = int(np.argmax(memory_gpu))\n",
    "\n",
    "# torch.cuda.set_device(GPU)\n",
    "# print('Using GPU: {}'.format(torch.cuda.current_device()))\n",
    "\n",
    "os.environ[\"CUDA_VISIBLE_DEVICES\"] = str(GPU)\n",
    "print('Using GPU: {}'.format(os.environ[\"CUDA_VISIBLE_DEVICES\"]))"
   ]
  },
  {
   "cell_type": "code",
   "execution_count": null,
   "metadata": {},
   "outputs": [],
   "source": []
  }
 ],
 "metadata": {
  "kernelspec": {
   "display_name": "adv_vae",
   "language": "python",
   "name": "python3"
  },
  "language_info": {
   "codemirror_mode": {
    "name": "ipython",
    "version": 3
   },
   "file_extension": ".py",
   "mimetype": "text/x-python",
   "name": "python",
   "nbconvert_exporter": "python",
   "pygments_lexer": "ipython3",
   "version": "3.9.16"
  },
  "orig_nbformat": 4,
  "vscode": {
   "interpreter": {
    "hash": "fed124cce0fa1b7dd86ed60b7f6191835e6bae9caa83b9d1a540b000d71c6182"
   }
  }
 },
 "nbformat": 4,
 "nbformat_minor": 2
}
